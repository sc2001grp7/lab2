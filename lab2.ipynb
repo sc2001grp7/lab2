{
 "cells": [
  {
   "cell_type": "markdown",
   "metadata": {},
   "source": [
    "## Part (a) Implementation"
   ]
  },
  {
   "cell_type": "code",
   "execution_count": 1,
   "metadata": {},
   "outputs": [],
   "source": [
    "from typing import List\n",
    "\n",
    "def dijkstra_matrix_array(graph: List[List[int]], source: int):\n",
    "    d = [float('inf')] * len(graph)\n",
    "    # an array of length |V| to store the estimated LENGTHS of shortest paths from source to all vertices\n",
    "\n",
    "    pi = [None] * len(graph)\n",
    "    # an array of length |V| to store the PREDECESSORS of each vertex\n",
    "\n",
    "    s = [False] * len(graph)\n",
    "    # an array of length |V| to store whether the shortest path to the vertex has been found\n",
    "\n",
    "    d[source] = 0\n",
    "    q = [d[i] for i in range(len(graph))] # put all vertices into a priority queue\n",
    "    q_size = 1 # the size of the priority queue, used for checking if the queue is empty\n",
    "\n",
    "    while q_size: # O(|V|) * O(|V|) = O(|V|^2)\n",
    "        u = q.index(min(q)) # O(|V|)\n",
    "        q[u] = float('inf')\n",
    "        q_size -= 1\n",
    "        s[u] = True\n",
    "        for v, weight in enumerate(graph[u]): # O(|V|)\n",
    "            if s[v] is False and d[v] > d[u] + weight: # O(1)\n",
    "                d[v] = d[u] + weight\n",
    "                pi[v] = u\n",
    "                q[v] = d[v]\n",
    "                q_size += 1\n",
    "\n",
    "    return d, pi"
   ]
  },
  {
   "cell_type": "markdown",
   "metadata": {},
   "source": [
    "## Part (b) Implementation"
   ]
  },
  {
   "cell_type": "code",
   "execution_count": 2,
   "metadata": {},
   "outputs": [],
   "source": [
    "import heapq\n",
    "from typing import Dict\n",
    "def dijkstra_list_heap(graph: Dict[int, Dict[int, int]], source: int):\n",
    "  d = {}\n",
    "  pi = {}\n",
    "  S = {}\n",
    "  Q = []\n",
    "  vertices = set(graph.keys())\n",
    "  for vertex in graph:\n",
    "    vertices.update(graph[vertex].keys())\n",
    "  for vertex in vertices:\n",
    "    d[vertex] = float('infinity')\n",
    "    pi[vertex] = None\n",
    "    S[vertex] = 0\n",
    "    heapq.heappush(Q, (d[vertex], vertex))\n",
    "\n",
    "  d[source] = 0\n",
    "  for index, (dist, vertex) in enumerate(Q):\n",
    "    if vertex == source:\n",
    "      Q[index] = (0, source)\n",
    "      break\n",
    "  heapq.heapify(Q)\n",
    "\n",
    "  while Q:\n",
    "    _, u = heapq.heappop(Q)\n",
    "    S[u] = 1\n",
    "    for v, weight in graph.get(u, {}).items():\n",
    "      if S[v] != 1 and d[v] > d[u] + weight:\n",
    "        d[v] = d[u] + weight\n",
    "        pi[v] = u\n",
    "        heapq.heappush(Q, (d[v], v))\n",
    "  return d, pi"
   ]
  },
  {
   "cell_type": "markdown",
   "metadata": {},
   "source": [
    "## Test Functions"
   ]
  },
  {
   "cell_type": "code",
   "execution_count": 3,
   "metadata": {},
   "outputs": [],
   "source": [
    "import tqdm\n",
    "import numpy as np\n",
    "\n",
    "def generate_weighted_undirected_graph(n: int, m: int):\n",
    "    assert n > 0 and m > 0 and m <= n*(n-1)//2\n",
    "\n",
    "    edges = np.array(np.triu_indices(n, 1)).T\n",
    "    g_matrix = np.full((n, n), float('inf')).tolist()\n",
    "    g_list = {}\n",
    "\n",
    "    print(\"Generating random graph...\")\n",
    "    selected_edges = edges[np.random.choice(edges.shape[0], m, replace=False)].tolist()\n",
    "    weights = np.random.randint(1, 101, size=m).tolist()\n",
    "\n",
    "    for (u, v), w in tqdm.tqdm(zip(selected_edges, weights), total=m):\n",
    "        g_matrix[u][v] = w\n",
    "        g_matrix[v][u] = w\n",
    "        if u not in g_list:\n",
    "            g_list[u] = {}\n",
    "        g_list[u][v] = w\n",
    "        if v not in g_list:\n",
    "            g_list[v] = {}\n",
    "        g_list[v][u] = w\n",
    "\n",
    "    return g_matrix, g_list"
   ]
  },
  {
   "cell_type": "code",
   "execution_count": 4,
   "metadata": {},
   "outputs": [],
   "source": [
    "import timeit\n",
    "\n",
    "def test(n, m, runs):\n",
    "    g_matrix, g_list = generate_weighted_undirected_graph(n, m)\n",
    "    timeit_a = timeit.timeit(lambda: dijkstra_matrix_array(g_matrix, 0), number=runs)\n",
    "    timeit_b = timeit.timeit(lambda: dijkstra_list_heap(g_list, 0), number=runs)\n",
    "    print(f\"Avg time for adjacency matrix and array pq implementation (n={n}, m={m}, runs={runs}):\")\n",
    "    print(timeit_a, \"seconds\")\n",
    "    print(f\"Avg time for adjacency list and min heap pq implementation (n={n}, m={m}, runs={runs}):\")\n",
    "    print(timeit_b, \"seconds\")\n",
    "    print()"
   ]
  },
  {
   "cell_type": "markdown",
   "metadata": {},
   "source": [
    "## Fixed |E|, Vary |V|"
   ]
  },
  {
   "cell_type": "code",
   "execution_count": 5,
   "metadata": {},
   "outputs": [
    {
     "name": "stdout",
     "output_type": "stream",
     "text": [
      "Generating random graph...\n"
     ]
    },
    {
     "name": "stderr",
     "output_type": "stream",
     "text": [
      "100%|██████████| 10000/10000 [00:00<00:00, 1249941.59it/s]\n"
     ]
    },
    {
     "name": "stdout",
     "output_type": "stream",
     "text": [
      "Avg time for adjacency matrix and array pq implementation (n=150, m=10000, runs=10):\n",
      "0.05568419999872276 seconds\n",
      "Avg time for adjacency list and min heap pq implementation (n=150, m=10000, runs=10):\n",
      "0.04689420000067912 seconds\n",
      "\n",
      "Generating random graph...\n"
     ]
    },
    {
     "name": "stderr",
     "output_type": "stream",
     "text": [
      "100%|██████████| 10000/10000 [00:00<00:00, 2000240.35it/s]\n"
     ]
    },
    {
     "name": "stdout",
     "output_type": "stream",
     "text": [
      "Avg time for adjacency matrix and array pq implementation (n=200, m=10000, runs=10):\n",
      "0.08067139999911888 seconds\n",
      "Avg time for adjacency list and min heap pq implementation (n=200, m=10000, runs=10):\n",
      "0.06346299999859184 seconds\n",
      "\n",
      "Generating random graph...\n"
     ]
    },
    {
     "name": "stderr",
     "output_type": "stream",
     "text": [
      "100%|██████████| 10000/10000 [00:00<00:00, 1427410.84it/s]\n"
     ]
    },
    {
     "name": "stdout",
     "output_type": "stream",
     "text": [
      "Avg time for adjacency matrix and array pq implementation (n=250, m=10000, runs=10):\n",
      "0.15945130000000063 seconds\n",
      "Avg time for adjacency list and min heap pq implementation (n=250, m=10000, runs=10):\n",
      "0.06314200000088022 seconds\n",
      "\n",
      "Generating random graph...\n"
     ]
    },
    {
     "name": "stderr",
     "output_type": "stream",
     "text": [
      "100%|██████████| 10000/10000 [00:00<00:00, 1993490.49it/s]\n"
     ]
    },
    {
     "name": "stdout",
     "output_type": "stream",
     "text": [
      "Avg time for adjacency matrix and array pq implementation (n=300, m=10000, runs=10):\n",
      "0.282802100000481 seconds\n",
      "Avg time for adjacency list and min heap pq implementation (n=300, m=10000, runs=10):\n",
      "0.06589619999977003 seconds\n",
      "\n",
      "Generating random graph...\n"
     ]
    },
    {
     "name": "stderr",
     "output_type": "stream",
     "text": [
      "100%|██████████| 10000/10000 [00:00<00:00, 960168.49it/s]\n"
     ]
    },
    {
     "name": "stdout",
     "output_type": "stream",
     "text": [
      "Avg time for adjacency matrix and array pq implementation (n=350, m=10000, runs=10):\n",
      "0.2979342999988148 seconds\n",
      "Avg time for adjacency list and min heap pq implementation (n=350, m=10000, runs=10):\n",
      "0.06828929999937827 seconds\n",
      "\n",
      "Generating random graph...\n"
     ]
    },
    {
     "name": "stderr",
     "output_type": "stream",
     "text": [
      "100%|██████████| 10000/10000 [00:00<00:00, 2000240.35it/s]\n"
     ]
    },
    {
     "name": "stdout",
     "output_type": "stream",
     "text": [
      "Avg time for adjacency matrix and array pq implementation (n=400, m=10000, runs=10):\n",
      "0.3879930000002787 seconds\n",
      "Avg time for adjacency list and min heap pq implementation (n=400, m=10000, runs=10):\n",
      "0.08357429999887245 seconds\n",
      "\n",
      "Generating random graph...\n"
     ]
    },
    {
     "name": "stderr",
     "output_type": "stream",
     "text": [
      "100%|██████████| 10000/10000 [00:00<00:00, 833509.67it/s]\n"
     ]
    },
    {
     "name": "stdout",
     "output_type": "stream",
     "text": [
      "Avg time for adjacency matrix and array pq implementation (n=450, m=10000, runs=10):\n",
      "0.6487012000015966 seconds\n",
      "Avg time for adjacency list and min heap pq implementation (n=450, m=10000, runs=10):\n",
      "0.1455564999996568 seconds\n",
      "\n",
      "Generating random graph...\n"
     ]
    },
    {
     "name": "stderr",
     "output_type": "stream",
     "text": [
      "100%|██████████| 10000/10000 [00:00<00:00, 499422.98it/s]\n"
     ]
    },
    {
     "name": "stdout",
     "output_type": "stream",
     "text": [
      "Avg time for adjacency matrix and array pq implementation (n=500, m=10000, runs=10):\n",
      "0.590633900001194 seconds\n",
      "Avg time for adjacency list and min heap pq implementation (n=500, m=10000, runs=10):\n",
      "0.08661690000008093 seconds\n",
      "\n",
      "Generating random graph...\n"
     ]
    },
    {
     "name": "stderr",
     "output_type": "stream",
     "text": [
      "100%|██████████| 10000/10000 [00:00<00:00, 898638.21it/s]\n"
     ]
    },
    {
     "name": "stdout",
     "output_type": "stream",
     "text": [
      "Avg time for adjacency matrix and array pq implementation (n=550, m=10000, runs=10):\n",
      "0.7317366999996011 seconds\n",
      "Avg time for adjacency list and min heap pq implementation (n=550, m=10000, runs=10):\n",
      "0.09376870000050985 seconds\n",
      "\n",
      "Generating random graph...\n"
     ]
    },
    {
     "name": "stderr",
     "output_type": "stream",
     "text": [
      "100%|██████████| 10000/10000 [00:00<00:00, 703683.25it/s]\n"
     ]
    },
    {
     "name": "stdout",
     "output_type": "stream",
     "text": [
      "Avg time for adjacency matrix and array pq implementation (n=600, m=10000, runs=10):\n",
      "1.041816499999186 seconds\n",
      "Avg time for adjacency list and min heap pq implementation (n=600, m=10000, runs=10):\n",
      "0.10077049999927112 seconds\n",
      "\n",
      "Generating random graph...\n"
     ]
    },
    {
     "name": "stderr",
     "output_type": "stream",
     "text": [
      "100%|██████████| 10000/10000 [00:00<00:00, 909176.51it/s]\n"
     ]
    },
    {
     "name": "stdout",
     "output_type": "stream",
     "text": [
      "Avg time for adjacency matrix and array pq implementation (n=650, m=10000, runs=10):\n",
      "1.2148792999996658 seconds\n",
      "Avg time for adjacency list and min heap pq implementation (n=650, m=10000, runs=10):\n",
      "0.08141869999963092 seconds\n",
      "\n",
      "Generating random graph...\n"
     ]
    },
    {
     "name": "stderr",
     "output_type": "stream",
     "text": [
      "100%|██████████| 10000/10000 [00:00<00:00, 588195.43it/s]\n"
     ]
    },
    {
     "name": "stdout",
     "output_type": "stream",
     "text": [
      "Avg time for adjacency matrix and array pq implementation (n=700, m=10000, runs=10):\n",
      "1.0094645000008313 seconds\n",
      "Avg time for adjacency list and min heap pq implementation (n=700, m=10000, runs=10):\n",
      "0.12201009999989765 seconds\n",
      "\n",
      "Generating random graph...\n"
     ]
    },
    {
     "name": "stderr",
     "output_type": "stream",
     "text": [
      "100%|██████████| 10000/10000 [00:00<00:00, 697759.81it/s]\n"
     ]
    },
    {
     "name": "stdout",
     "output_type": "stream",
     "text": [
      "Avg time for adjacency matrix and array pq implementation (n=750, m=10000, runs=10):\n",
      "1.4403836999990745 seconds\n",
      "Avg time for adjacency list and min heap pq implementation (n=750, m=10000, runs=10):\n",
      "0.10566389999985404 seconds\n",
      "\n",
      "Generating random graph...\n"
     ]
    },
    {
     "name": "stderr",
     "output_type": "stream",
     "text": [
      "100%|██████████| 10000/10000 [00:00<00:00, 831048.94it/s]\n"
     ]
    },
    {
     "name": "stdout",
     "output_type": "stream",
     "text": [
      "Avg time for adjacency matrix and array pq implementation (n=800, m=10000, runs=10):\n",
      "1.7259501999997156 seconds\n",
      "Avg time for adjacency list and min heap pq implementation (n=800, m=10000, runs=10):\n",
      "0.09982660000059695 seconds\n",
      "\n",
      "Generating random graph...\n"
     ]
    },
    {
     "name": "stderr",
     "output_type": "stream",
     "text": [
      "100%|██████████| 10000/10000 [00:00<00:00, 714361.82it/s]\n"
     ]
    },
    {
     "name": "stdout",
     "output_type": "stream",
     "text": [
      "Avg time for adjacency matrix and array pq implementation (n=850, m=10000, runs=10):\n",
      "1.8190855000011652 seconds\n",
      "Avg time for adjacency list and min heap pq implementation (n=850, m=10000, runs=10):\n",
      "0.12020940000002156 seconds\n",
      "\n",
      "Generating random graph...\n"
     ]
    },
    {
     "name": "stderr",
     "output_type": "stream",
     "text": [
      "100%|██████████| 10000/10000 [00:00<00:00, 666587.84it/s]\n"
     ]
    },
    {
     "name": "stdout",
     "output_type": "stream",
     "text": [
      "Avg time for adjacency matrix and array pq implementation (n=900, m=10000, runs=10):\n",
      "2.271847099998922 seconds\n",
      "Avg time for adjacency list and min heap pq implementation (n=900, m=10000, runs=10):\n",
      "0.12884289999965404 seconds\n",
      "\n",
      "Generating random graph...\n"
     ]
    },
    {
     "name": "stderr",
     "output_type": "stream",
     "text": [
      "100%|██████████| 10000/10000 [00:00<00:00, 949689.57it/s]\n"
     ]
    },
    {
     "name": "stdout",
     "output_type": "stream",
     "text": [
      "Avg time for adjacency matrix and array pq implementation (n=950, m=10000, runs=10):\n",
      "1.5531322000006185 seconds\n",
      "Avg time for adjacency list and min heap pq implementation (n=950, m=10000, runs=10):\n",
      "0.08452549999856274 seconds\n",
      "\n",
      "Generating random graph...\n"
     ]
    },
    {
     "name": "stderr",
     "output_type": "stream",
     "text": [
      "100%|██████████| 10000/10000 [00:00<00:00, 829963.59it/s]\n"
     ]
    },
    {
     "name": "stdout",
     "output_type": "stream",
     "text": [
      "Avg time for adjacency matrix and array pq implementation (n=1000, m=10000, runs=10):\n",
      "2.0401122999992367 seconds\n",
      "Avg time for adjacency list and min heap pq implementation (n=1000, m=10000, runs=10):\n",
      "0.15822790000129316 seconds\n",
      "\n"
     ]
    }
   ],
   "source": [
    "m = 10000\n",
    "\n",
    "for n in range(150, 1001, 50):\n",
    "    test(n, m, 10)"
   ]
  },
  {
   "cell_type": "markdown",
   "metadata": {},
   "source": [
    "## Fixed |V|, Vary |E|"
   ]
  },
  {
   "cell_type": "code",
   "execution_count": null,
   "metadata": {},
   "outputs": [],
   "source": [
    "n = 1000\n",
    "\n",
    "for m in range(1000, 100001, 1000):\n",
    "    test(n, m, 10)"
   ]
  }
 ],
 "metadata": {
  "kernelspec": {
   "display_name": "Python 3",
   "language": "python",
   "name": "python3"
  },
  "language_info": {
   "codemirror_mode": {
    "name": "ipython",
    "version": 3
   },
   "file_extension": ".py",
   "mimetype": "text/x-python",
   "name": "python",
   "nbconvert_exporter": "python",
   "pygments_lexer": "ipython3",
   "version": "3.11.9"
  }
 },
 "nbformat": 4,
 "nbformat_minor": 2
}
